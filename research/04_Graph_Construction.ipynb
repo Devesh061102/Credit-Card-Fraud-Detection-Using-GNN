{
 "cells": [
  {
   "cell_type": "markdown",
   "metadata": {},
   "source": [
    "## GNN for fraud detection:\n",
    "Creating a multigraph for fraud detection using transaction data and applying a Graph Neural Network (GNN) on the edge list can be done in the following steps:\n",
    "\n",
    "1. Prepare the transaction data: Collect and organize the transaction data into a format that can be used to create the edges of the multigraph. For example, each transaction could be represented as a tuple (node1, node2, attributes), where node1 and node2 represent the sender and receiver of the transaction, and attributes is a dictionary containing properties such as the amount, timestamp, and transaction type.\n",
    "\n",
    "2. Create the multigraph: Use the transaction data to create a multigraph using the NetworkX library. The add_edge() method can be used to add edges to the multigraph, where each edge represents a transaction.\n",
    "\n",
    "3. Extract the edges list and their features: Use the edges() method of the multigraph to extract the edges list and their features, which will be used as input to the GNN.\n",
    "\n",
    "4. Apply a GNN on the edge list: Use a GNN library such as PyTorch Geometric, Deep Graph Library (DGL) or Spektral to apply a GNN on the edge list. The GNN will learn representations of the edges in the multigraph and use them to classify the edges as fraudulent or non-fraudulent.\n",
    "\n",
    "5. Evaluation: To evaluate the performance of the GNN, you can split the data into train and test sets, and use the test set to evaluate the accuracy, precision, recall, and F1-score of the model."
   ]
  },
  {
   "cell_type": "markdown",
   "metadata": {},
   "source": [
    "### Graph construction \n",
    "\n",
    "When constructing a graph with transaction edges between card_id and merchant_name, the first step is to identify the nodes in the graph. In this case, the card_id and merchant_name represent the nodes in the graph. Each card_id represents a unique credit card and each merchant_name represents a unique merchant. These nodes can be created by extracting the card_id and merchant_name information from the tabular data and storing them in separate lists.\n",
    "\n",
    "Once the nodes have been identified, the next step is to create edges between them. These edges represent the transactions that have taken place between a card_id and a merchant_name. To create the edges, a list of transactions is created and for each transaction, an edge is created between the card_id and merchant_name.\n"
   ]
  },
  {
   "cell_type": "markdown",
   "metadata": {},
   "source": [
    "We are creating an empty multigraph object called G using the nx.MultiGraph() function from the NetworkX library. Then we add nodes to the graph for each unique card_id and merchant_name from the dataframe df.\n",
    "\n",
    "The add_nodes_from method is used to add nodes to the graph, it takes an iterable as input and creates a node for each element in the iterable. The df[\"card_id\"].unique() will return a list of unique card_ids in the dataframe, and the df[\"Merchant Name\"].unique will return a list of all the merchant names in the dataframe.\n",
    "\n",
    "The type attribute is added to each node, it is used to differentiate between card_id and merchant_name nodes. This will help later on when we want to analyze the graph.\n",
    "\n",
    "**Why did we use a multigraph and not graph?**\n",
    "\n",
    "The same user (card_id) can buy from the same merchant (Merchant Name) multiple times, so we can have multiple edges between the user and the merchant and for this reason we used multigraph instead of graph.\n"
   ]
  },
  {
   "cell_type": "code",
   "execution_count": 1,
   "metadata": {},
   "outputs": [
    {
     "data": {
      "text/plain": [
       "'d:\\\\Final-Year-Project\\\\Credit-Card-Fraud-Detection-Using-GNN'"
      ]
     },
     "execution_count": 1,
     "metadata": {},
     "output_type": "execute_result"
    }
   ],
   "source": [
    "import os\n",
    "os.chdir(\"../\")\n",
    "%pwd"
   ]
  },
  {
   "cell_type": "code",
   "execution_count": 2,
   "metadata": {},
   "outputs": [],
   "source": [
    "# Entity\n",
    "\n",
    "from dataclasses import dataclass\n",
    "from pathlib import Path\n",
    "\n",
    "@dataclass(frozen=True)\n",
    "class GraphConstructionConfig:\n",
    "    root_dir: Path\n",
    "    transformed_data_path: Path"
   ]
  },
  {
   "cell_type": "code",
   "execution_count": 3,
   "metadata": {},
   "outputs": [],
   "source": [
    "from Credit_Card_Fraud_Detection.constants import *\n",
    "from Credit_Card_Fraud_Detection.utils.common import read_yaml, create_directories"
   ]
  },
  {
   "cell_type": "code",
   "execution_count": 4,
   "metadata": {},
   "outputs": [],
   "source": [
    "# Configuration\n",
    "\n",
    "class ConfigurationManager:\n",
    "    def __init__(\n",
    "        self,\n",
    "        config_filepath = CONFIG_FILE_PATH,\n",
    "        params_filepath = PARAMS_FILE_PATH,\n",
    "        schema_filepath = SCHEMA_FILE_PATH ):\n",
    "\n",
    "        self.config = read_yaml(config_filepath)\n",
    "        self.params = read_yaml(params_filepath)\n",
    "        self.schema = read_yaml(schema_filepath)\n",
    "\n",
    "        create_directories([self.config.artifacts_root])\n",
    "\n",
    "\n",
    "def get_graph_construction_config(self) -> GraphConstructionConfig:\n",
    "    config = self.config.graph_construction\n",
    "\n",
    "    create_directories([config.root_dir])\n",
    "\n",
    "    graph_construction_config = GraphConstructionConfig(\n",
    "        root_dir=config.root_dir,\n",
    "        transformed_data_path=config.transformed_data_path,\n",
    "    )\n",
    "\n",
    "    return graph_construction_config"
   ]
  },
  {
   "cell_type": "code",
   "execution_count": 5,
   "metadata": {},
   "outputs": [],
   "source": [
    "import os\n",
    "import torch\n",
    "import pandas as pd\n",
    "from Credit_Card_Fraud_Detection import logger\n",
    "from torch_geometric.data import Data"
   ]
  },
  {
   "cell_type": "code",
   "execution_count": 6,
   "metadata": {},
   "outputs": [],
   "source": [
    "class GraphConstruction:\n",
    "    def __init__(self, config: GraphConstructionConfig):\n",
    "        self.config = config\n",
    "        self.graph = None  # PyG Graph\n",
    "\n",
    "    def construct_graph(self):\n",
    "        print(\"Loading transformed data...\")\n",
    "        dataset = pd.read_csv(self.config.transformed_data_path)\n",
    "\n",
    "        # Create unique ID mappings for cards and merchants\n",
    "        card_ids = {card: idx for idx, card in enumerate(dataset['card_id'].unique())}\n",
    "        merchant_ids = {merchant: idx + len(card_ids) for idx, merchant in enumerate(dataset[\"Merchant Name\"].unique())}\n",
    "\n",
    "        # Convert card_id and Merchant Name to node indices\n",
    "        src_nodes = torch.tensor(dataset['card_id'].map(card_ids).values, dtype=torch.long)\n",
    "        dst_nodes = torch.tensor(dataset[\"Merchant Name\"].map(merchant_ids).values, dtype=torch.long)\n",
    "\n",
    "        # Stack to create edge_index (2, num_edges) for PyG\n",
    "        edge_index = torch.stack([src_nodes, dst_nodes], dim=0)\n",
    "\n",
    "        # Edge attributes (Converted to tensors)\n",
    "        edge_attr = torch.stack([\n",
    "            torch.tensor(dataset[\"Year\"].values, dtype=torch.int32),\n",
    "            torch.tensor(dataset[\"Month\"].values, dtype=torch.int32),\n",
    "            torch.tensor(dataset[\"Day\"].values, dtype=torch.int32),\n",
    "            torch.tensor(dataset[\"Hour\"].values, dtype=torch.int32),\n",
    "            torch.tensor(dataset[\"Minute\"].values, dtype=torch.int32),\n",
    "            torch.tensor(dataset[\"Amount\"].values, dtype=torch.float32),\n",
    "            torch.tensor(dataset[\"Use Chip\"].values, dtype=torch.int32),\n",
    "            torch.tensor(dataset[\"Merchant City\"].factorize()[0], dtype=torch.int32),  # Encoding strings\n",
    "            torch.tensor(dataset[\"Errors?\"].values, dtype=torch.int32),\n",
    "            torch.tensor(dataset[\"MCC\"].values, dtype=torch.int32)\n",
    "        ], dim=1)  # Shape: (num_edges, num_features)\n",
    "\n",
    "        # Create PyG Graph Data Object\n",
    "        self.graph = Data(edge_index=edge_index, edge_attr=edge_attr)\n",
    "\n",
    "        print(f\"Graph constructed with {self.graph.num_nodes} nodes and {self.graph.num_edges} edges.\")\n",
    "\n",
    "    def save_graph(self):\n",
    "        graph_path = os.path.join(self.config.root_dir, \"fraud_graph.pt\")\n",
    "        torch.save(self.graph, graph_path)\n",
    "        print(f\"Graph saved at {graph_path}\")"
   ]
  },
  {
   "cell_type": "code",
   "execution_count": 8,
   "metadata": {},
   "outputs": [
    {
     "name": "stdout",
     "output_type": "stream",
     "text": [
      "[2025-03-17 12:06:49,171: INFO: common: yaml file: config\\config.yaml loaded successfully]\n",
      "[2025-03-17 12:06:49,172: INFO: common: yaml file: params.yaml loaded successfully]\n",
      "[2025-03-17 12:06:49,173: INFO: common: yaml file: schema.yaml loaded successfully]\n",
      "[2025-03-17 12:06:49,175: INFO: common: created directory at: artifacts]\n",
      "[2025-03-17 12:06:49,176: INFO: common: created directory at: artifacts/data_transformation]\n",
      "Loading transformed data...\n"
     ]
    },
    {
     "name": "stderr",
     "output_type": "stream",
     "text": [
      "d:\\Final-Year-Project\\Credit-Card-Fraud-Detection-Using-GNN\\env\\lib\\site-packages\\torch_geometric\\data\\storage.py:452: UserWarning: Unable to accurately infer 'num_nodes' from the attribute set '{'edge_index', 'edge_attr'}'. Please explicitly set 'num_nodes' as an attribute of 'data' to suppress this warning\n",
      "  warnings.warn(\n"
     ]
    },
    {
     "name": "stdout",
     "output_type": "stream",
     "text": [
      "Graph constructed with 106482 nodes and 24386900 edges.\n",
      "Graph saved at artifacts/data_transformation\\fraud_graph.pt\n"
     ]
    }
   ],
   "source": [
    "# Pipeline\n",
    "\n",
    "try:\n",
    "    config_manager = ConfigurationManager()\n",
    "    graph_config = get_graph_construction_config(config_manager)\n",
    "    graph_builder = GraphConstruction(config=graph_config)\n",
    "    graph_builder.construct_graph()\n",
    "    graph_builder.save_graph()\n",
    "except Exception as e:\n",
    "    logger.error(f\"Error in graph construction: {e}\")\n",
    "    raise e"
   ]
  },
  {
   "cell_type": "code",
   "execution_count": null,
   "metadata": {},
   "outputs": [],
   "source": []
  }
 ],
 "metadata": {
  "kernelspec": {
   "display_name": "env",
   "language": "python",
   "name": "python3"
  },
  "language_info": {
   "codemirror_mode": {
    "name": "ipython",
    "version": 3
   },
   "file_extension": ".py",
   "mimetype": "text/x-python",
   "name": "python",
   "nbconvert_exporter": "python",
   "pygments_lexer": "ipython3",
   "version": "3.10.11"
  }
 },
 "nbformat": 4,
 "nbformat_minor": 4
}
