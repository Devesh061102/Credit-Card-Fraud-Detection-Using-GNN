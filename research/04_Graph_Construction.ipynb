{
 "cells": [
  {
   "cell_type": "markdown",
   "metadata": {},
   "source": [
    "## GNN for fraud detection:\n",
    "Creating a multigraph for fraud detection using transaction data and applying a Graph Neural Network (GNN) on the edge list can be done in the following steps:\n",
    "\n",
    "1. Prepare the transaction data: Collect and organize the transaction data into a format that can be used to create the edges of the multigraph. For example, each transaction could be represented as a tuple (node1, node2, attributes), where node1 and node2 represent the sender and receiver of the transaction, and attributes is a dictionary containing properties such as the amount, timestamp, and transaction type.\n",
    "\n",
    "2. Create the multigraph: Use the transaction data to create a multigraph using the NetworkX library. The add_edge() method can be used to add edges to the multigraph, where each edge represents a transaction.\n",
    "\n",
    "3. Extract the edges list and their features: Use the edges() method of the multigraph to extract the edges list and their features, which will be used as input to the GNN.\n",
    "\n",
    "4. Apply a GNN on the edge list: Use a GNN library such as PyTorch Geometric, Deep Graph Library (DGL) or Spektral to apply a GNN on the edge list. The GNN will learn representations of the edges in the multigraph and use them to classify the edges as fraudulent or non-fraudulent.\n",
    "\n",
    "5. Evaluation: To evaluate the performance of the GNN, you can split the data into train and test sets, and use the test set to evaluate the accuracy, precision, recall, and F1-score of the model."
   ]
  },
  {
   "cell_type": "markdown",
   "metadata": {},
   "source": [
    "### Graph construction \n",
    "\n",
    "When constructing a graph with transaction edges between card_id and merchant_name, the first step is to identify the nodes in the graph. In this case, the card_id and merchant_name represent the nodes in the graph. Each card_id represents a unique credit card and each merchant_name represents a unique merchant. These nodes can be created by extracting the card_id and merchant_name information from the tabular data and storing them in separate lists.\n",
    "\n",
    "Once the nodes have been identified, the next step is to create edges between them. These edges represent the transactions that have taken place between a card_id and a merchant_name. To create the edges, a list of transactions is created and for each transaction, an edge is created between the card_id and merchant_name.\n"
   ]
  },
  {
   "cell_type": "markdown",
   "metadata": {},
   "source": [
    "We are creating an empty multigraph object called G using the nx.MultiGraph() function from the NetworkX library. Then we add nodes to the graph for each unique card_id and merchant_name from the dataframe df.\n",
    "\n",
    "The add_nodes_from method is used to add nodes to the graph, it takes an iterable as input and creates a node for each element in the iterable. The df[\"card_id\"].unique() will return a list of unique card_ids in the dataframe, and the df[\"Merchant Name\"].unique will return a list of all the merchant names in the dataframe.\n",
    "\n",
    "The type attribute is added to each node, it is used to differentiate between card_id and merchant_name nodes. This will help later on when we want to analyze the graph.\n",
    "\n",
    "**Why did we use a multigraph and not graph?**\n",
    "\n",
    "The same user (card_id) can buy from the same merchant (Merchant Name) multiple times, so we can have multiple edges between the user and the merchant and for this reason we used multigraph instead of graph.\n"
   ]
  },
  {
   "cell_type": "code",
   "execution_count": 1,
   "metadata": {},
   "outputs": [
    {
     "data": {
      "text/plain": [
       "'d:\\\\Final-Year-Project\\\\Credit-Card-Fraud-Detection-Using-GNN'"
      ]
     },
     "execution_count": 1,
     "metadata": {},
     "output_type": "execute_result"
    }
   ],
   "source": [
    "import os\n",
    "os.chdir(\"../\")\n",
    "%pwd"
   ]
  },
  {
   "cell_type": "code",
   "execution_count": 2,
   "metadata": {},
   "outputs": [],
   "source": [
    "# Entity\n",
    "\n",
    "from dataclasses import dataclass\n",
    "from pathlib import Path\n",
    "\n",
    "@dataclass(frozen=True)\n",
    "class GraphConstructionConfig:\n",
    "    root_dir: Path\n",
    "    transformed_data_path: Path\n",
    "    graph_data_path: Path"
   ]
  },
  {
   "cell_type": "code",
   "execution_count": 3,
   "metadata": {},
   "outputs": [],
   "source": [
    "from Credit_Card_Fraud_Detection.constants import *\n",
    "from Credit_Card_Fraud_Detection.utils.common import read_yaml, create_directories"
   ]
  },
  {
   "cell_type": "code",
   "execution_count": 4,
   "metadata": {},
   "outputs": [],
   "source": [
    "class ConfigurationManager:\n",
    "    def __init__(\n",
    "        self,\n",
    "        config_filepath=CONFIG_FILE_PATH,\n",
    "        params_filepath=PARAMS_FILE_PATH,\n",
    "        schema_filepath=SCHEMA_FILE_PATH\n",
    "    ):\n",
    "        self.config = read_yaml(config_filepath)\n",
    "        self.params = read_yaml(params_filepath)\n",
    "        self.schema = read_yaml(schema_filepath)\n",
    "        create_directories([self.config.artifacts_root])\n",
    "\n",
    "    def get_graph_construction_config(self) -> GraphConstructionConfig:\n",
    "        print(\"get_graph_construction_config method called\") # add this line\n",
    "        config = self.config.graph_construction\n",
    "        create_directories([config.root_dir])\n",
    "        \n",
    "        graph_construction_config = GraphConstructionConfig(\n",
    "            root_dir=config.root_dir,\n",
    "            transformed_data_path=config.transformed_data_path,\n",
    "            graph_data_path=config.graph_data_path,\n",
    "        )\n",
    "        return graph_construction_config\n"
   ]
  },
  {
   "cell_type": "code",
   "execution_count": 5,
   "metadata": {},
   "outputs": [],
   "source": [
    "import os\n",
    "import torch\n",
    "import pandas as pd\n",
    "from Credit_Card_Fraud_Detection import logger\n",
    "from torch_geometric.data import Data \n",
    "from torch_geometric.data import HeteroData"
   ]
  },
  {
   "cell_type": "code",
   "execution_count": 6,
   "metadata": {},
   "outputs": [],
   "source": [
    "\n",
    "class GraphConstructor:\n",
    "    def __init__(self, config):\n",
    "        self.config = config\n",
    "\n",
    "    def load_transformed_data(self):\n",
    "        try:\n",
    "            df = pd.read_csv(self.config.transformed_data_path)\n",
    "            logger.info(\"Transformed data loaded successfully.\")\n",
    "            return df\n",
    "        except FileNotFoundError:\n",
    "            logger.error(f\"File not found: {self.config.transformed_data_path}\")\n",
    "            return None\n",
    "\n",
    "    def create_node_ids(self, df):\n",
    "        #check if the correct column name exists.\n",
    "        if \"card_id\" in df.columns:\n",
    "          card_nodes = pd.Series(df[\"card_id\"].unique()).reset_index(drop=True)\n",
    "          df[\"card_node\"] = df[\"card_id\"].map(pd.Series(card_nodes.index, index=card_nodes))\n",
    "        elif \"customer_id\" in df.columns: # example of renamed column\n",
    "          card_nodes = pd.Series(df[\"customer_id\"].unique()).reset_index(drop=True)\n",
    "          df[\"card_node\"] = df[\"customer_id\"].map(pd.Series(card_nodes.index, index=card_nodes))\n",
    "        else:\n",
    "          logger.error(\"card_id or customer_id was not found\")\n",
    "          return None, None, None, None\n",
    "\n",
    "        merchant_nodes = pd.Series(df[\"merchant\"].unique()).reset_index(drop=True)\n",
    "        transaction_nodes = pd.Series(df.index).reset_index(drop=True)\n",
    "\n",
    "        merchant_node_mapping = pd.Series(merchant_nodes.index, index=merchant_nodes)\n",
    "        transaction_node_mapping = pd.Series(transaction_nodes.index, index=transaction_nodes)\n",
    "\n",
    "        df[\"merchant_node\"] = df[\"merchant\"].map(merchant_node_mapping)\n",
    "        df[\"trans_node\"] = df.index.map(transaction_node_mapping)\n",
    "\n",
    "        logger.info(\"Node IDs created.\")\n",
    "        return df, len(card_nodes), len(merchant_nodes), len(transaction_nodes)\n",
    "\n",
    "    def create_edge_indices(self, df):\n",
    "        try:\n",
    "            transaction_to_card_edges = torch.tensor([df[\"trans_node\"].tolist(), df[\"card_node\"].tolist()], dtype=torch.long)\n",
    "            transaction_to_merchant_edges = torch.tensor([df[\"trans_node\"].tolist(), df[\"merchant_node\"].tolist()], dtype=torch.long)\n",
    "            card_to_transaction_edges = torch.tensor([df[\"card_node\"].tolist(), df[\"trans_node\"].tolist()], dtype=torch.long)\n",
    "            merchant_to_transaction_edges = torch.tensor([df[\"merchant_node\"].tolist(), df[\"trans_node\"].tolist()], dtype=torch.long)\n",
    "\n",
    "            return transaction_to_card_edges, transaction_to_merchant_edges, card_to_transaction_edges, merchant_to_transaction_edges\n",
    "\n",
    "        except RuntimeError as e:\n",
    "            logger.error(f\"Error creating edge indices: {e}\")\n",
    "            return None, None, None, None\n",
    "\n",
    "    def construct_graph(self):\n",
    "        df = self.load_transformed_data()\n",
    "        if df is None:\n",
    "            return None\n",
    "\n",
    "        df, num_card_nodes, num_merchant_nodes, num_transaction_nodes = self.create_node_ids(df)\n",
    "\n",
    "        if df is None:\n",
    "            return None\n",
    "\n",
    "        transaction_to_card_edges, transaction_to_merchant_edges, card_to_transaction_edges, merchant_to_transaction_edges = self.create_edge_indices(df)\n",
    "\n",
    "        if transaction_to_card_edges is None:\n",
    "            return None\n",
    "\n",
    "        # Node features (example: amount, category, etc.)\n",
    "        node_features = torch.tensor(df[[\"amt\", \"category\", \"state\", \"city_pop\", \"lat\", \"long\", \"merch_lat\", \"merch_long\"]].values, dtype=torch.float)\n",
    "\n",
    "        # Create the graph data object\n",
    "        edge_index = torch.cat([\n",
    "            transaction_to_card_edges,\n",
    "            transaction_to_merchant_edges,\n",
    "            card_to_transaction_edges,\n",
    "            merchant_to_transaction_edges\n",
    "        ], dim=1)\n",
    "\n",
    "        data = Data(x=node_features, edge_index=edge_index)\n",
    "\n",
    "        # Save the graph data\n",
    "        torch.save(data, self.config.graph_data_path)\n",
    "        logger.info(f\"Graph data saved to: {self.config.graph_data_path}\")\n",
    "        return data"
   ]
  },
  {
   "cell_type": "code",
   "execution_count": 7,
   "metadata": {},
   "outputs": [
    {
     "name": "stdout",
     "output_type": "stream",
     "text": [
      "[2025-03-18 01:07:07,139: INFO: common: yaml file: config\\config.yaml loaded successfully]\n",
      "[2025-03-18 01:07:07,142: INFO: common: yaml file: params.yaml loaded successfully]\n",
      "[2025-03-18 01:07:07,142: INFO: common: yaml file: schema.yaml loaded successfully]\n",
      "[2025-03-18 01:07:07,144: INFO: common: created directory at: artifacts]\n",
      "Config object module: __main__\n",
      "Config object file: __main__\n",
      "get_graph_construction_config method called\n",
      "[2025-03-18 01:07:07,144: INFO: common: created directory at: artifacts/graph_construction]\n",
      "GraphConstructionConfig(root_dir='artifacts/graph_construction', transformed_data_path='artifacts\\\\data_transformation\\\\transformed_dataset.csv', graph_data_path='artifacts/graph_construction/graph_data.pt')\n",
      "[2025-03-18 01:07:09,696: INFO: 1737171361: Transformed data loaded successfully.]\n",
      "[2025-03-18 01:07:09,897: INFO: 1737171361: Node IDs created.]\n",
      "[2025-03-18 01:07:10,736: INFO: 1737171361: Graph data saved to: artifacts/graph_construction/graph_data.pt]\n",
      "[2025-03-18 01:07:10,776: INFO: 670666312: Graph construction completed successfully.]\n"
     ]
    }
   ],
   "source": [
    "# Pipeline Execution\n",
    "try:\n",
    "    config = ConfigurationManager()\n",
    "    print(f\"Config object module: {config.__class__.__module__}\") # Add this line\n",
    "    print(f\"Config object file: {config.__class__.__module__}\") # Add this line\n",
    "    graph_construction_config = config.get_graph_construction_config()\n",
    "    print(graph_construction_config) # Add this line\n",
    "    graph_constructor = GraphConstructor(config=graph_construction_config)\n",
    "    graph_data = graph_constructor.construct_graph()\n",
    "    if graph_data is not None:\n",
    "        logger.info(\"Graph construction completed successfully.\")\n",
    "\n",
    "except Exception as e:\n",
    "    logger.exception(\"An error occurred during graph construction.\")\n",
    "    raise e"
   ]
  },
  {
   "cell_type": "code",
   "execution_count": 8,
   "metadata": {},
   "outputs": [],
   "source": [
    "# # Pipeline Execution\n",
    "# try:\n",
    "#     config = ConfigurationManager()\n",
    "#     graph_construction_config = config.get_graph_construction_config()\n",
    "#     graph_constructor = GraphConstructor(config=graph_construction_config)\n",
    "#     graph_data = graph_constructor.construct_graph()\n",
    "#     if graph_data is not None:\n",
    "#         logger.info(\"Graph construction completed successfully.\")\n",
    "\n",
    "# except Exception as e:\n",
    "#     logger.exception(\"An error occurred during graph construction.\")\n",
    "#     raise e"
   ]
  },
  {
   "cell_type": "code",
   "execution_count": null,
   "metadata": {},
   "outputs": [],
   "source": []
  }
 ],
 "metadata": {
  "kernelspec": {
   "display_name": "env",
   "language": "python",
   "name": "python3"
  },
  "language_info": {
   "codemirror_mode": {
    "name": "ipython",
    "version": 3
   },
   "file_extension": ".py",
   "mimetype": "text/x-python",
   "name": "python",
   "nbconvert_exporter": "python",
   "pygments_lexer": "ipython3",
   "version": "3.10.11"
  }
 },
 "nbformat": 4,
 "nbformat_minor": 4
}
