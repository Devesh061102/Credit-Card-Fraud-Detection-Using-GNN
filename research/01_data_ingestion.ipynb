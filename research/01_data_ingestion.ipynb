{
 "cells": [
  {
   "cell_type": "code",
   "execution_count": 1,
   "metadata": {},
   "outputs": [
    {
     "data": {
      "text/plain": [
       "'d:\\\\Final-Year-Project\\\\Credit-Card-Fraud-Detection-Using-GNN'"
      ]
     },
     "execution_count": 1,
     "metadata": {},
     "output_type": "execute_result"
    }
   ],
   "source": [
    "import os\n",
    "os.chdir(\"../\")\n",
    "%pwd"
   ]
  },
  {
   "cell_type": "code",
   "execution_count": 2,
   "metadata": {},
   "outputs": [],
   "source": [
    "import zipfile\n",
    "import subprocess  # Used for running shell commands\n",
    "from pathlib import Path\n",
    "from dataclasses import dataclass\n",
    "\n",
    "# Importing constants and utility functions\n",
    "from Credit_Card_Fraud_Detection.constants import *\n",
    "from Credit_Card_Fraud_Detection.utils.common import read_yaml, create_directories\n",
    "from Credit_Card_Fraud_Detection import logger"
   ]
  },
  {
   "cell_type": "code",
   "execution_count": 3,
   "metadata": {},
   "outputs": [],
   "source": [
    "# ====================================================\n",
    "# ENTITY: DataIngestionConfig\n",
    "# ====================================================\n",
    "\n",
    "@dataclass(frozen=True)\n",
    "class DataIngestionConfig:\n",
    "    \"\"\"\n",
    "    This class stores configuration details for data ingestion.\n",
    "    - root_dir: Main directory where data is stored.\n",
    "    - source_URL: URL to download the dataset.\n",
    "    - local_data_file: Path where the downloaded data is stored.\n",
    "    - unzip_dir: Directory where the extracted files will be stored.\n",
    "    \"\"\"\n",
    "    root_dir: Path\n",
    "    source_URL: str\n",
    "    local_data_file: Path\n",
    "    unzip_dir: Path"
   ]
  },
  {
   "cell_type": "code",
   "execution_count": 4,
   "metadata": {},
   "outputs": [],
   "source": [
    "# ====================================================\n",
    "# CONFIGURATION MANAGER\n",
    "# ====================================================\n",
    "\n",
    "class ConfigurationManager:\n",
    "    \"\"\"\n",
    "    This class manages the configuration settings by reading YAML files.\n",
    "    It loads config, parameters, and schema details.\n",
    "    \"\"\"\n",
    "    def __init__(\n",
    "        self,\n",
    "        config_filepath=CONFIG_FILE_PATH,\n",
    "        params_filepath=PARAMS_FILE_PATH,\n",
    "        schema_filepath=SCHEMA_FILE_PATH):\n",
    "        \n",
    "        # Read YAML configuration files\n",
    "        self.config = read_yaml(config_filepath)\n",
    "        self.params = read_yaml(params_filepath)\n",
    "        self.schema = read_yaml(schema_filepath)\n",
    "\n",
    "        # Create required directories\n",
    "        create_directories([self.config.artifacts_root])\n",
    "\n",
    "    def get_data_ingestion_config(self) -> DataIngestionConfig:\n",
    "        \"\"\"Retrieves data ingestion settings and ensures directories exist.\"\"\"\n",
    "        config = self.config.data_ingestion\n",
    "        create_directories([config.root_dir])\n",
    "\n",
    "        return DataIngestionConfig(\n",
    "            root_dir=Path(config.root_dir),\n",
    "            source_URL=config.source_URL,\n",
    "            local_data_file=Path(config.local_data_file),\n",
    "            unzip_dir=Path(config.unzip_dir)\n",
    "        )"
   ]
  },
  {
   "cell_type": "code",
   "execution_count": 5,
   "metadata": {},
   "outputs": [],
   "source": [
    "\n",
    "# ====================================================\n",
    "# COMPONENT: Data Ingestion\n",
    "# ====================================================\n",
    "\n",
    "class DataIngestion:\n",
    "    \"\"\"\n",
    "    This class is responsible for downloading and extracting the dataset.\n",
    "    It takes a DataIngestionConfig object as input, which specifies the\n",
    "    source URL, local file path, and unzip directory.\n",
    "    \"\"\"\n",
    "    def __init__(self, config: DataIngestionConfig):\n",
    "        \"\"\"\n",
    "        Initializes the DataIngestion class with the provided configuration.\n",
    "\n",
    "        Args:\n",
    "            config (DataIngestionConfig): Configuration object containing download and extraction details.\n",
    "        \"\"\"\n",
    "        self.config = config\n",
    "\n",
    "    def download_file(self):\n",
    "        \"\"\"\n",
    "        Downloads a file from the source URL if it doesn't already exist locally.\n",
    "\n",
    "        This method uses the 'gdown' command-line tool to download the file. If the file\n",
    "        already exists at the specified local path, it skips the download.\n",
    "\n",
    "        Raises:\n",
    "            subprocess.CalledProcessError: If the 'gdown' command fails.\n",
    "        \"\"\"\n",
    "        # Check if the file already exists locally\n",
    "        if not self.config.local_data_file.exists():\n",
    "            try:\n",
    "                # Use 'gdown' to download the file from the URL\n",
    "                # '--fuzzy' allows for partial matches in the URL\n",
    "                # '-O' specifies the output file path\n",
    "                subprocess.run([\n",
    "                    \"gdown\", \"--fuzzy\", self.config.source_URL, \"-O\", str(self.config.local_data_file)\n",
    "                ], check=True)  # 'check=True' raises an error if the command fails\n",
    "\n",
    "                # Log successful download\n",
    "                logger.info(f\"Downloaded file to {self.config.local_data_file}\")\n",
    "            except subprocess.CalledProcessError as e:\n",
    "                # Log the error if the download fails\n",
    "                logger.error(f\"Failed to download file: {e}\")\n",
    "        else:\n",
    "            # Log that the file already exists\n",
    "            logger.info(f\"File already exists at {self.config.local_data_file}\")\n",
    "\n",
    "    def extract_zip_file(self):\n",
    "        \"\"\"\n",
    "        Extracts the downloaded ZIP file into the specified directory.\n",
    "\n",
    "        This method creates the unzip directory if it doesn't exist and then extracts\n",
    "        the contents of the ZIP file into it.\n",
    "\n",
    "        Raises:\n",
    "            zipfile.BadZipFile: If the downloaded file is not a valid ZIP file.\n",
    "            FileNotFoundError: If the ZIP file is not found.\n",
    "        \"\"\"\n",
    "        # Create the unzip directory if it doesn't exist\n",
    "        os.makedirs(self.config.unzip_dir, exist_ok=True)\n",
    "\n",
    "        try:\n",
    "            # Open the ZIP file for reading\n",
    "            with zipfile.ZipFile(self.config.local_data_file, 'r') as zip_ref:\n",
    "                # Extract all files from the ZIP archive to the unzip directory\n",
    "                zip_ref.extractall(self.config.unzip_dir)\n",
    "\n",
    "            # Log successful extraction\n",
    "            logger.info(f\"Extracted ZIP file to {self.config.unzip_dir}\")\n",
    "        except zipfile.BadZipFile:\n",
    "            # Log the error if the file is not a valid ZIP file\n",
    "            logger.error(\"The downloaded file is not a valid ZIP file.\")\n",
    "        except FileNotFoundError:\n",
    "            # Log the error if the ZIP file is not found\n",
    "            logger.error(\"ZIP file not found.\")"
   ]
  },
  {
   "cell_type": "code",
   "execution_count": 6,
   "metadata": {},
   "outputs": [
    {
     "name": "stdout",
     "output_type": "stream",
     "text": [
      "[2025-03-26 10:35:28,528: INFO: common: yaml file: config\\config.yaml loaded successfully]\n",
      "[2025-03-26 10:35:28,532: INFO: common: yaml file: params.yaml loaded successfully]\n",
      "[2025-03-26 10:35:28,532: INFO: common: yaml file: schema.yaml loaded successfully]\n",
      "[2025-03-26 10:35:28,535: INFO: common: created directory at: artifacts]\n",
      "[2025-03-26 10:35:28,536: INFO: common: created directory at: artifacts/data_ingestion]\n",
      "[2025-03-26 10:35:28,536: INFO: 3685546946: File already exists at artifacts\\data_ingestion\\data.zip]\n",
      "[2025-03-26 10:35:30,617: INFO: 3685546946: Extracted ZIP file to artifacts\\data_ingestion]\n"
     ]
    }
   ],
   "source": [
    "# ====================================================\n",
    "# PIPELINE: Run the Data Ingestion Process\n",
    "# ====================================================\n",
    "if __name__ == \"__main__\":\n",
    "    try:\n",
    "        # Step 1: Load Configuration\n",
    "        config_manager = ConfigurationManager()\n",
    "        data_ingestion_config = config_manager.get_data_ingestion_config()\n",
    "        \n",
    "        # Step 2: Initialize Data Ingestion\n",
    "        data_ingestion = DataIngestion(config=data_ingestion_config)\n",
    "        \n",
    "        # Step 3: Download and Extract Data\n",
    "        data_ingestion.download_file()\n",
    "        data_ingestion.extract_zip_file()\n",
    "        \n",
    "    except Exception as e:\n",
    "        logger.error(f\"Pipeline failed due to: {e}\")"
   ]
  },
  {
   "cell_type": "code",
   "execution_count": null,
   "metadata": {},
   "outputs": [],
   "source": []
  }
 ],
 "metadata": {
  "kernelspec": {
   "display_name": "mlproj",
   "language": "python",
   "name": "python3"
  },
  "language_info": {
   "codemirror_mode": {
    "name": "ipython",
    "version": 3
   },
   "file_extension": ".py",
   "mimetype": "text/x-python",
   "name": "python",
   "nbconvert_exporter": "python",
   "pygments_lexer": "ipython3",
   "version": "3.10.11"
  },
  "orig_nbformat": 4
 },
 "nbformat": 4,
 "nbformat_minor": 2
}
