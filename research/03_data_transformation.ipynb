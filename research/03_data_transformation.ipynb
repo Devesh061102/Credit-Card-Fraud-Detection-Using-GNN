{
 "cells": [
  {
   "cell_type": "code",
   "execution_count": 1,
   "metadata": {},
   "outputs": [
    {
     "data": {
      "text/plain": [
       "'d:\\\\Final-Year-Project\\\\Credit-Card-Fraud-Detection-Using-GNN'"
      ]
     },
     "execution_count": 1,
     "metadata": {},
     "output_type": "execute_result"
    }
   ],
   "source": [
    "import os\n",
    "os.chdir(\"../\")\n",
    "%pwd"
   ]
  },
  {
   "cell_type": "code",
   "execution_count": 2,
   "metadata": {},
   "outputs": [],
   "source": [
    "# Entity\n",
    "\n",
    "from dataclasses import dataclass\n",
    "from pathlib import Path\n",
    "\n",
    "\n",
    "@dataclass(frozen=True)\n",
    "class DataTransformationConfig:\n",
    "    root_dir: Path\n",
    "    data_path: Path"
   ]
  },
  {
   "cell_type": "code",
   "execution_count": 3,
   "metadata": {},
   "outputs": [],
   "source": [
    "from Credit_Card_Fraud_Detection.constants import *\n",
    "from Credit_Card_Fraud_Detection.utils.common import read_yaml, create_directories"
   ]
  },
  {
   "cell_type": "code",
   "execution_count": 4,
   "metadata": {},
   "outputs": [],
   "source": [
    "# Configuration\n",
    "\n",
    "class ConfigurationManager:\n",
    "    def __init__(\n",
    "        self,\n",
    "        config_filepath = CONFIG_FILE_PATH,\n",
    "        params_filepath = PARAMS_FILE_PATH,\n",
    "        schema_filepath = SCHEMA_FILE_PATH):\n",
    "\n",
    "        self.config = read_yaml(config_filepath)\n",
    "        self.params = read_yaml(params_filepath)\n",
    "        self.schema = read_yaml(schema_filepath)\n",
    "\n",
    "        create_directories([self.config.artifacts_root])\n",
    "\n",
    "\n",
    "    \n",
    "    def get_data_transformation_config(self) -> DataTransformationConfig:\n",
    "        config = self.config.data_transformation\n",
    "\n",
    "        create_directories([config.root_dir])\n",
    "\n",
    "        data_transformation_config = DataTransformationConfig(\n",
    "            root_dir=config.root_dir,\n",
    "            data_path=config.data_path,\n",
    "        )\n",
    "\n",
    "        return data_transformation_config"
   ]
  },
  {
   "cell_type": "code",
   "execution_count": 5,
   "metadata": {},
   "outputs": [],
   "source": [
    "import os\n",
    "import numpy as np\n",
    "import pandas as pd\n",
    "from Credit_Card_Fraud_Detection import logger\n",
    "from sklearn.preprocessing import LabelEncoder, StandardScaler"
   ]
  },
  {
   "cell_type": "code",
   "execution_count": 6,
   "metadata": {},
   "outputs": [],
   "source": [
    "#Components\n",
    "\n",
    "class DataTransformation:\n",
    "    def __init__(self, config):\n",
    "        self.config = config\n",
    "        self.label_encoders = {}\n",
    "        self.scaler = StandardScaler()\n",
    "\n",
    "    def load_data(self):\n",
    "        try:\n",
    "            df = pd.read_csv(self.config.data_path)\n",
    "            logger.info(\"Data loaded successfully.\")\n",
    "            return df\n",
    "        except FileNotFoundError:\n",
    "            logger.error(f\"File not found: {self.config.data_path}\")\n",
    "            return None\n",
    "\n",
    "    def create_card_ids(self, df):\n",
    "        \"\"\"Uses cc_num as card_id.\"\"\"\n",
    "        if 'cc_num' in df.columns:\n",
    "            df.rename(columns={'cc_num': 'card_id'}, inplace=True)\n",
    "            logger.info(\"cc_num column renamed to card_id.\")\n",
    "        elif 'card_id' in df.columns:\n",
    "            logger.info(\"card_id column already exists.\")\n",
    "        else:\n",
    "            logger.error(\"cc_num column not found. Please check your data.\")\n",
    "            return None # Return None to indicate an error\n",
    "\n",
    "        return df\n",
    "    \n",
    "    def drop_unwanted_columns(self, df):\n",
    "        df = df.drop(columns=[\"merch_zipcode\", \"Unnamed: 0\", \"trans_num\", \"unix_time\"], errors=\"ignore\") # added trans_num and unix_time\n",
    "        logger.info(\"Unwanted columns dropped.\")\n",
    "        return df\n",
    "\n",
    "    def handle_missing_categorical(self, df):\n",
    "        df[\"category\"] = df[\"category\"].fillna(\"unknown\")\n",
    "        df[\"state\"] = df[\"state\"].fillna(\"unknown\")\n",
    "        logger.info(\"Missing categorical values handled.\")\n",
    "        return df\n",
    "\n",
    "    def encode_categorical(self, df):\n",
    "        if \"category\" not in self.label_encoders:\n",
    "            self.label_encoders[\"category\"] = LabelEncoder()\n",
    "            df[\"category\"] = self.label_encoders[\"category\"].fit_transform(df[\"category\"])\n",
    "        else:\n",
    "            df[\"category\"] = self.label_encoders[\"category\"].transform(df[\"category\"])\n",
    "\n",
    "        if \"state\" not in self.label_encoders:\n",
    "            self.label_encoders[\"state\"] = LabelEncoder()\n",
    "            df[\"state\"] = self.label_encoders[\"state\"].fit_transform(df[\"state\"])\n",
    "        else:\n",
    "            df[\"state\"] = self.label_encoders[\"state\"].transform(df[\"state\"])\n",
    "\n",
    "        logger.info(\"Categorical columns encoded.\")\n",
    "        return df\n",
    "\n",
    "    def handle_numerical_features(self, df):\n",
    "        num_features = [\"amt\", \"city_pop\", \"lat\", \"long\", \"merch_lat\", \"merch_long\"] # removed unix_time\n",
    "        existing_features = [col for col in num_features if col in df.columns]\n",
    "\n",
    "        df[existing_features] = df[existing_features].apply(pd.to_numeric, errors='coerce').fillna(0)\n",
    "        logger.info(\"Numerical features converted and missing values handled.\")\n",
    "\n",
    "        return df\n",
    "\n",
    "    def normalize_numerical_features(self, df):\n",
    "        num_features = [\"amt\", \"city_pop\", \"lat\", \"long\", \"merch_lat\", \"merch_long\"]\n",
    "        existing_features = [col for col in num_features if col in df.columns]\n",
    "\n",
    "        df[existing_features] = self.scaler.fit_transform(df[existing_features])\n",
    "        logger.info(\"Numerical features normalized.\")\n",
    "\n",
    "        # Round lat, long, merch_lat, merch_long to 3 decimal places\n",
    "        for col in [\"lat\", \"long\", \"merch_lat\", \"merch_long\"]:\n",
    "            if col in df.columns:\n",
    "                df[col] = df[col].round(3)\n",
    "\n",
    "        # Handle trans_num conversion (hex to int) and rounding\n",
    "        if 'trans_num' in df.columns:\n",
    "            try:\n",
    "                df[\"trans_num\"] = df[\"trans_num\"].apply(lambda x: int(x, 16))\n",
    "                df[\"trans_num\"] = df[\"trans_num\"].round() # Round to nearest integer\n",
    "            except ValueError as e:\n",
    "                logger.error(f\"Error converting hex to int: {e}\")\n",
    "                df = df[df[\"trans_num\"].apply(lambda x: isinstance(x, str) and all(c in '0123456789abcdefABCDEF' for c in x))]\n",
    "                df[\"trans_num\"] = df[\"trans_num\"].apply(lambda x: int(x, 16)).round()\n",
    "            except OverflowError as e:\n",
    "                logger.error(f\"Overflow error: {e}\")\n",
    "                df = df[df[\"trans_num\"].apply(lambda x: isinstance(x, str))]\n",
    "                df[\"trans_num\"] = df[\"trans_num\"].apply(lambda x: pd.to_numeric(x, errors='coerce')).round()\n",
    "                df= df.dropna(subset=['trans_num'])\n",
    "                df[\"trans_num\"] = df[\"trans_num\"].astype(int)\n",
    "\n",
    "        return df\n",
    "\n",
    "    def preprocess(self):\n",
    "        df = self.load_data()\n",
    "        if df is None:\n",
    "            return\n",
    "\n",
    "        df = self.drop_unwanted_columns(df)\n",
    "        df = self.handle_missing_categorical(df)\n",
    "        df = self.encode_categorical(df)\n",
    "        df = self.handle_numerical_features(df)\n",
    "        df = self.normalize_numerical_features(df)\n",
    "\n",
    "        # Save preprocessed dataset\n",
    "        preprocessed_path = os.path.join(self.config.root_dir, \"transformed_dataset.csv\")\n",
    "        df.to_csv(preprocessed_path, index=False)\n",
    "        logger.info(f\"Preprocessed data saved at {preprocessed_path}\")\n",
    "\n",
    "        return df  # return the dataframe for further processing"
   ]
  },
  {
   "cell_type": "code",
   "execution_count": 7,
   "metadata": {},
   "outputs": [
    {
     "name": "stdout",
     "output_type": "stream",
     "text": [
      "[2025-03-18 00:53:03,681: INFO: common: yaml file: config\\config.yaml loaded successfully]\n",
      "[2025-03-18 00:53:03,685: INFO: common: yaml file: params.yaml loaded successfully]\n",
      "[2025-03-18 00:53:03,687: INFO: common: yaml file: schema.yaml loaded successfully]\n",
      "[2025-03-18 00:53:03,688: INFO: common: created directory at: artifacts]\n",
      "[2025-03-18 00:53:03,688: INFO: common: created directory at: artifacts/data_transformation]\n",
      "[2025-03-18 00:53:07,328: INFO: 3722950385: Data loaded successfully.]\n",
      "[2025-03-18 00:53:07,409: INFO: 3722950385: Unwanted columns dropped.]\n",
      "[2025-03-18 00:53:07,545: INFO: 3722950385: Missing categorical values handled.]\n",
      "[2025-03-18 00:53:07,818: INFO: 3722950385: Categorical columns encoded.]\n",
      "[2025-03-18 00:53:07,884: INFO: 3722950385: Numerical features converted and missing values handled.]\n",
      "[2025-03-18 00:53:08,022: INFO: 3722950385: Numerical features normalized.]\n",
      "[2025-03-18 00:53:17,097: INFO: 3722950385: Preprocessed data saved at artifacts/data_transformation\\transformed_dataset.csv]\n"
     ]
    }
   ],
   "source": [
    "# Pipeline\n",
    "\n",
    "try:\n",
    "    config = ConfigurationManager()\n",
    "    data_transformation_config = config.get_data_transformation_config()\n",
    "    data_transformation = DataTransformation(config=data_transformation_config)\n",
    "    transformed_data = data_transformation.preprocess()  # Corrected method call\n",
    "except Exception as e:\n",
    "    raise e  # This will re-raise the exception if any error occurs"
   ]
  },
  {
   "cell_type": "code",
   "execution_count": null,
   "metadata": {},
   "outputs": [],
   "source": []
  }
 ],
 "metadata": {
  "kernelspec": {
   "display_name": "mlproj",
   "language": "python",
   "name": "python3"
  },
  "language_info": {
   "codemirror_mode": {
    "name": "ipython",
    "version": 3
   },
   "file_extension": ".py",
   "mimetype": "text/x-python",
   "name": "python",
   "nbconvert_exporter": "python",
   "pygments_lexer": "ipython3",
   "version": "3.10.11"
  },
  "orig_nbformat": 4
 },
 "nbformat": 4,
 "nbformat_minor": 2
}
