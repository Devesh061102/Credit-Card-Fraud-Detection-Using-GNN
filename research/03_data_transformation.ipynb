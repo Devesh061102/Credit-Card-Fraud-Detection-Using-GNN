{
 "cells": [
  {
   "cell_type": "code",
   "execution_count": 1,
   "metadata": {},
   "outputs": [
    {
     "data": {
      "text/plain": [
       "'d:\\\\Final-Year-Project\\\\Credit-Card-Fraud-Detection-Using-GNN'"
      ]
     },
     "execution_count": 1,
     "metadata": {},
     "output_type": "execute_result"
    }
   ],
   "source": [
    "import os\n",
    "os.chdir(\"../\")\n",
    "%pwd"
   ]
  },
  {
   "cell_type": "code",
   "execution_count": 2,
   "metadata": {},
   "outputs": [],
   "source": [
    "# Entity\n",
    "\n",
    "from dataclasses import dataclass\n",
    "from pathlib import Path\n",
    "\n",
    "\n",
    "@dataclass(frozen=True)\n",
    "class DataTransformationConfig:\n",
    "    root_dir: Path\n",
    "    data_path: Path"
   ]
  },
  {
   "cell_type": "code",
   "execution_count": 3,
   "metadata": {},
   "outputs": [],
   "source": [
    "from Credit_Card_Fraud_Detection.constants import *\n",
    "from Credit_Card_Fraud_Detection.utils.common import read_yaml, create_directories"
   ]
  },
  {
   "cell_type": "code",
   "execution_count": 4,
   "metadata": {},
   "outputs": [],
   "source": [
    "# Configuration\n",
    "\n",
    "class ConfigurationManager:\n",
    "    def __init__(\n",
    "        self,\n",
    "        config_filepath = CONFIG_FILE_PATH,\n",
    "        params_filepath = PARAMS_FILE_PATH,\n",
    "        schema_filepath = SCHEMA_FILE_PATH):\n",
    "\n",
    "        self.config = read_yaml(config_filepath)\n",
    "        self.params = read_yaml(params_filepath)\n",
    "        self.schema = read_yaml(schema_filepath)\n",
    "\n",
    "        create_directories([self.config.artifacts_root])\n",
    "\n",
    "\n",
    "    \n",
    "    def get_data_transformation_config(self) -> DataTransformationConfig:\n",
    "        config = self.config.data_transformation\n",
    "\n",
    "        create_directories([config.root_dir])\n",
    "\n",
    "        data_transformation_config = DataTransformationConfig(\n",
    "            root_dir=config.root_dir,\n",
    "            data_path=config.data_path,\n",
    "        )\n",
    "\n",
    "        return data_transformation_config"
   ]
  },
  {
   "cell_type": "code",
   "execution_count": 5,
   "metadata": {},
   "outputs": [],
   "source": [
    "import os\n",
    "import numpy as np\n",
    "import pandas as pd\n",
    "from Credit_Card_Fraud_Detection import logger\n",
    "from sklearn.preprocessing import LabelEncoder, StandardScaler\n"
   ]
  },
  {
   "cell_type": "code",
   "execution_count": 6,
   "metadata": {},
   "outputs": [],
   "source": [
    "\n",
    "\n",
    "class DataTransformation:\n",
    "    def __init__(self, config):\n",
    "        self.config = config\n",
    "        self.label_encoders = {}\n",
    "        self.scaler = StandardScaler()\n",
    "        self.customer_mapping = {}\n",
    "        self.merchant_mapping = {}\n",
    "\n",
    "    def load_data(self):\n",
    "        try: return pd.read_csv(self.config.data_path)\n",
    "        except FileNotFoundError: logger.error(f\"File not found: {self.config.data_path}\"); return None\n",
    "\n",
    "    def handle_missing_values(self, df):\n",
    "        df[\"category\"] = df[\"category\"].fillna(\"unknown\")\n",
    "        df[\"state\"] = df[\"state\"].fillna(\"unknown\")\n",
    "        num_features = [\"amt\", \"city_pop\", \"lat\", \"long\", \"merch_lat\", \"merch_long\"]\n",
    "        existing_features = [col for col in num_features if col in df.columns]\n",
    "        df[existing_features] = df[existing_features].apply(pd.to_numeric, errors='coerce').fillna(0)\n",
    "        return df\n",
    "\n",
    "    def create_ids(self, df):\n",
    "        \"\"\"\n",
    "        Creates unique customer and merchant IDs, ensuring merchant IDs start after the last customer ID.\n",
    "        \"\"\"\n",
    "        unique_customers = df['cc_num'].unique()\n",
    "        self.customer_mapping = {customer: idx for idx, customer in enumerate(unique_customers)}\n",
    "        df['customer_id'] = df['cc_num'].map(self.customer_mapping).astype(int)\n",
    "\n",
    "        unique_merchants = df['merchant'].unique()\n",
    "        \n",
    "        # Corrected offset calculation:\n",
    "        max_customer_id = df['customer_id'].max()\n",
    "        self.merchant_mapping = {merchant: idx + max_customer_id + 1 for idx, merchant in enumerate(unique_merchants)}\n",
    "        \n",
    "        df['merchant_id'] = df['merchant'].map(self.merchant_mapping).astype(int)\n",
    "\n",
    "        df.drop(columns=['cc_num', 'merchant'], inplace=True)\n",
    "        return df\n",
    "    \n",
    "    \n",
    "    def extract_datetime(self, df):\n",
    "        if 'trans_date_trans_time' in df.columns:\n",
    "            df['trans_date_trans_time'] = pd.to_datetime(df['trans_date_trans_time'])\n",
    "            df['trans_hour'] = df['trans_date_trans_time'].dt.hour\n",
    "        return df\n",
    "\n",
    "    def encode_categorical(self, df):\n",
    "        if \"gender\" in df.columns: df[\"gender\"] = df[\"gender\"].map({\"M\": 1, \"F\": 0})\n",
    "        for col in [\"category\", \"state\"]:\n",
    "            if col not in self.label_encoders: self.label_encoders[col] = LabelEncoder(); df[col] = self.label_encoders[col].fit_transform(df[col])\n",
    "            else: df[col] = self.label_encoders[col].transform(df[col])\n",
    "        return df\n",
    "\n",
    "    def engineer_features(self, df):\n",
    "        df[\"transaction_unique\"] = range(len(df))\n",
    "        df['customer_avg_amt'] = df.groupby('customer_id')['amt'].transform('mean')\n",
    "        df['merchant_category_fraud_risk'] = df.groupby('category')['is_fraud'].mean().to_dict()\n",
    "        df['merchant_category_fraud_risk'] = df['category'].map(df['merchant_category_fraud_risk'])\n",
    "        df['merchant_avg_amt'] = df.groupby('merchant_id')['amt'].transform('mean')\n",
    "        df['high_amt'] = (df['amt'] > df['customer_avg_amt'] + 3 * df.groupby('customer_id')['amt'].transform('std').fillna(0)).astype(int)\n",
    "        df['amt_ratio_merchant'] = df['amt'] / (df['merchant_avg_amt'] + 1e-9)\n",
    "        df['amt_diff_customer_avg'] = df['amt'] - df['customer_avg_amt']\n",
    "        df['hour_cos'] = np.cos(2 * np.pi * df['trans_hour'] / 24)\n",
    "        df['amt_per_city_pop'] = df['amt'] / (df['city_pop'] + 1e-9)\n",
    "        df['customer_min_amt'] = df.groupby('customer_id')['amt'].transform('min')\n",
    "        df['merchant_min_amt'] = df.groupby('merchant_id')['amt'].transform('min')\n",
    "        df['customer_amt_std'] = df.groupby('customer_id')['amt'].transform('std').fillna(0)\n",
    "        df['merchant_amt_std'] = df.groupby('merchant_id')['amt'].transform('std').fillna(0)\n",
    "        df['sqrt_amt'] = np.sqrt(df['amt'])\n",
    "        return df\n",
    "\n",
    "    def select_final_features(self, df):\n",
    "        columns_to_keep = ['high_amt', 'amt_ratio_merchant', 'sqrt_amt', 'amt', 'customer_avg_amt','amt_diff_customer_avg', 'hour_cos', 'amt_per_city_pop', 'customer_min_amt','merchant_category_fraud_risk', 'merchant_avg_amt', 'merchant_min_amt','customer_amt_std', 'merchant_amt_std', 'customer_id','merchant_id','transaction_unique', 'is_fraud']\n",
    "        return df[columns_to_keep]\n",
    "\n",
    "    def normalize_features(self, df):\n",
    "        num_features_to_scale = [col for col in df.select_dtypes(include=np.number).columns.tolist() if col not in ['is_fraud', 'customer_id', 'merchant_id','transaction_unique']]\n",
    "        df[num_features_to_scale] = self.scaler.fit_transform(df[num_features_to_scale]).round(5)\n",
    "        return df\n",
    "\n",
    "    def preprocess(self):\n",
    "        df = self.load_data()\n",
    "        if df is None: return\n",
    "        df = self.handle_missing_values(df)\n",
    "        df = self.create_ids(df)\n",
    "        df = self.extract_datetime(df)\n",
    "        df = self.encode_categorical(df)\n",
    "        df = self.engineer_features(df)\n",
    "        df = self.select_final_features(df)\n",
    "        df = self.normalize_features(df)\n",
    "\n",
    "        preprocessed_path = os.path.join(self.config.root_dir, \"transformed_dataset.csv\")\n",
    "        df.to_csv(preprocessed_path, index=False)\n",
    "        logger.info(f\"Preprocessed data saved at {preprocessed_path}\")\n",
    "        return df"
   ]
  },
  {
   "cell_type": "code",
   "execution_count": 7,
   "metadata": {},
   "outputs": [
    {
     "name": "stdout",
     "output_type": "stream",
     "text": [
      "[2025-03-24 09:31:12,312: INFO: common: yaml file: config\\config.yaml loaded successfully]\n",
      "[2025-03-24 09:31:12,312: INFO: common: yaml file: params.yaml loaded successfully]\n",
      "[2025-03-24 09:31:12,315: INFO: common: yaml file: schema.yaml loaded successfully]\n",
      "[2025-03-24 09:31:12,315: INFO: common: created directory at: artifacts]\n",
      "[2025-03-24 09:31:12,316: INFO: common: created directory at: artifacts/data_transformation]\n",
      "[2025-03-24 09:31:28,115: INFO: 2947974737: Preprocessed data saved at artifacts/data_transformation\\transformed_dataset.csv]\n"
     ]
    }
   ],
   "source": [
    "# Pipeline\n",
    "\n",
    "try:\n",
    "    config = ConfigurationManager()\n",
    "    data_transformation_config = config.get_data_transformation_config()\n",
    "    data_transformation = DataTransformation(config=data_transformation_config)\n",
    "    transformed_data = data_transformation.preprocess()  # Corrected method call\n",
    "except Exception as e:\n",
    "    raise e  # This will re-raise the exception if any error occurs"
   ]
  },
  {
   "cell_type": "code",
   "execution_count": null,
   "metadata": {},
   "outputs": [],
   "source": []
  }
 ],
 "metadata": {
  "kernelspec": {
   "display_name": "mlproj",
   "language": "python",
   "name": "python3"
  },
  "language_info": {
   "codemirror_mode": {
    "name": "ipython",
    "version": 3
   },
   "file_extension": ".py",
   "mimetype": "text/x-python",
   "name": "python",
   "nbconvert_exporter": "python",
   "pygments_lexer": "ipython3",
   "version": "3.10.11"
  },
  "orig_nbformat": 4
 },
 "nbformat": 4,
 "nbformat_minor": 2
}
