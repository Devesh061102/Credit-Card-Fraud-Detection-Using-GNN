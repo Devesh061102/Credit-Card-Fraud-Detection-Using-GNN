{
 "cells": [
  {
   "cell_type": "code",
   "execution_count": 1,
   "metadata": {},
   "outputs": [
    {
     "data": {
      "text/plain": [
       "'d:\\\\Final-Year-Project\\\\Credit-Card-Fraud-Detection-Using-GNN'"
      ]
     },
     "execution_count": 1,
     "metadata": {},
     "output_type": "execute_result"
    }
   ],
   "source": [
    "import os\n",
    "os.chdir(\"../\")\n",
    "%pwd"
   ]
  },
  {
   "cell_type": "code",
   "execution_count": 2,
   "metadata": {},
   "outputs": [],
   "source": [
    "# Entity\n",
    "\n",
    "from dataclasses import dataclass\n",
    "from pathlib import Path\n",
    "\n",
    "\n",
    "@dataclass(frozen=True)\n",
    "class DataTransformationConfig:\n",
    "    root_dir: Path\n",
    "    data_path: Path"
   ]
  },
  {
   "cell_type": "code",
   "execution_count": 3,
   "metadata": {},
   "outputs": [],
   "source": [
    "from Credit_Card_Fraud_Detection.constants import *\n",
    "from Credit_Card_Fraud_Detection.utils.common import read_yaml, create_directories"
   ]
  },
  {
   "cell_type": "code",
   "execution_count": 4,
   "metadata": {},
   "outputs": [],
   "source": [
    "# Configuration\n",
    "\n",
    "class ConfigurationManager:\n",
    "    def __init__(\n",
    "        self,\n",
    "        config_filepath = CONFIG_FILE_PATH,\n",
    "        params_filepath = PARAMS_FILE_PATH,\n",
    "        schema_filepath = SCHEMA_FILE_PATH):\n",
    "\n",
    "        self.config = read_yaml(config_filepath)\n",
    "        self.params = read_yaml(params_filepath)\n",
    "        self.schema = read_yaml(schema_filepath)\n",
    "\n",
    "        create_directories([self.config.artifacts_root])\n",
    "\n",
    "\n",
    "    \n",
    "    def get_data_transformation_config(self) -> DataTransformationConfig:\n",
    "        config = self.config.data_transformation\n",
    "\n",
    "        create_directories([config.root_dir])\n",
    "\n",
    "        data_transformation_config = DataTransformationConfig(\n",
    "            root_dir=config.root_dir,\n",
    "            data_path=config.data_path,\n",
    "        )\n",
    "\n",
    "        return data_transformation_config"
   ]
  },
  {
   "cell_type": "code",
   "execution_count": 5,
   "metadata": {},
   "outputs": [],
   "source": [
    "import os\n",
    "import numpy as np\n",
    "import pandas as pd\n",
    "from Credit_Card_Fraud_Detection import logger\n",
    "from sklearn.preprocessing import LabelEncoder\n",
    "from datetime import datetime, timedelta"
   ]
  },
  {
   "cell_type": "code",
   "execution_count": 6,
   "metadata": {},
   "outputs": [],
   "source": [
    "# Components\n",
    "\n",
    "class DataTransformation:\n",
    "    def __init__(self, config: DataTransformationConfig):\n",
    "        self.config = config\n",
    "        self.label_encoders = {}  # Initialize label encoders\n",
    "    \n",
    "    def create_card_id(self, df):\n",
    "        df[\"card_id\"] = df[\"User\"].astype(str) + \"_\" + df[\"Card\"].astype(str)\n",
    "        return df\n",
    "    \n",
    "    def clean_amount_column(self, df):\n",
    "        df[\"Amount\"] = df[\"Amount\"].str.replace(\"$\", \"\", regex=True)\n",
    "        df[\"Amount\"] = pd.to_numeric(df[\"Amount\"], errors=\"coerce\").fillna(0)  # Handle missing values safely\n",
    "        return df\n",
    "    \n",
    "    def extract_time_features(self, df):\n",
    "        df[\"Hour\"] = df[\"Time\"].str[:2].astype(int)\n",
    "        df[\"Minute\"] = df[\"Time\"].str[3:5].astype(int)\n",
    "        return df\n",
    "    \n",
    "    def drop_unnecessary_columns(self, df):\n",
    "        df = df.drop([\"Time\", \"User\", \"Card\", \"Merchant State\", \"Zip\"], axis=1)\n",
    "        return df\n",
    "    \n",
    "    def fill_missing_errors(self, df):\n",
    "        df[\"Errors?\"] = df[\"Errors?\"].fillna(\"No error\")\n",
    "        return df\n",
    "    \n",
    "    def encode_categorical_columns(self, df, columns):\n",
    "        for col in columns:\n",
    "            if col in df.columns:\n",
    "                if col not in self.label_encoders:\n",
    "                    self.label_encoders[col] = LabelEncoder()\n",
    "                    df[col] = self.label_encoders[col].fit_transform(df[col])\n",
    "                else:\n",
    "                    df[col] = self.label_encoders[col].transform(df[col])\n",
    "        return df\n",
    "    \n",
    "    def convert_target_column(self, df):\n",
    "        df[\"Is Fraud?\"] = df[\"Is Fraud?\"].map({\"Yes\": 1, \"No\": 0})\n",
    "        return df\n",
    "    \n",
    "    def transform(self):\n",
    "        dataset = pd.read_csv(self.config.data_path)\n",
    "        logger.info(\"Data read successfully\")\n",
    "\n",
    "        dataset = self.create_card_id(dataset)\n",
    "        dataset = self.clean_amount_column(dataset)\n",
    "        dataset = self.extract_time_features(dataset)\n",
    "        dataset = self.drop_unnecessary_columns(dataset)\n",
    "        dataset = self.fill_missing_errors(dataset)\n",
    "\n",
    "        categorical_columns = [\"Merchant City\", \"Use Chip\", \"Errors?\"]\n",
    "        dataset = self.encode_categorical_columns(dataset, categorical_columns)\n",
    "        dataset = self.convert_target_column(dataset)\n",
    "\n",
    "        # Retain `card_id` as an index for graph construction\n",
    "        dataset.set_index(\"card_id\", inplace=True)\n",
    "        dataset = dataset.sort_index()\n",
    "\n",
    "        # Save transformed dataset\n",
    "        transformed_path = os.path.join(self.config.root_dir, \"transformed_dataset.csv\")\n",
    "        dataset.to_csv(transformed_path)\n",
    "        logger.info(f\"Transformed dataset saved at {transformed_path}\")\n",
    "\n",
    "        "
   ]
  },
  {
   "cell_type": "code",
   "execution_count": 7,
   "metadata": {},
   "outputs": [
    {
     "name": "stdout",
     "output_type": "stream",
     "text": [
      "[2025-03-17 12:38:37,419: INFO: common: yaml file: config\\config.yaml loaded successfully]\n",
      "[2025-03-17 12:38:37,421: INFO: common: yaml file: params.yaml loaded successfully]\n",
      "[2025-03-17 12:38:37,423: INFO: common: yaml file: schema.yaml loaded successfully]\n",
      "[2025-03-17 12:38:37,424: INFO: common: created directory at: artifacts]\n",
      "[2025-03-17 12:38:37,425: INFO: common: created directory at: artifacts/data_transformation]\n"
     ]
    },
    {
     "name": "stdout",
     "output_type": "stream",
     "text": [
      "[2025-03-17 12:39:00,490: INFO: 3007030047: Data read successfully]\n",
      "[2025-03-17 12:40:56,274: INFO: 3007030047: Transformed dataset saved at artifacts/data_transformation\\transformed_dataset.csv]\n"
     ]
    }
   ],
   "source": [
    "# Pipeline\n",
    "\n",
    "try:\n",
    "    config = ConfigurationManager()\n",
    "    data_transformation_config = config.get_data_transformation_config()\n",
    "    data_transformation = DataTransformation(config=data_transformation_config)\n",
    "    transformed_data = data_transformation.transform()  # Corrected method call\n",
    "except Exception as e:\n",
    "    raise e  # This will re-raise the exception if any error occurs"
   ]
  },
  {
   "cell_type": "code",
   "execution_count": null,
   "metadata": {},
   "outputs": [],
   "source": []
  }
 ],
 "metadata": {
  "kernelspec": {
   "display_name": "mlproj",
   "language": "python",
   "name": "python3"
  },
  "language_info": {
   "codemirror_mode": {
    "name": "ipython",
    "version": 3
   },
   "file_extension": ".py",
   "mimetype": "text/x-python",
   "name": "python",
   "nbconvert_exporter": "python",
   "pygments_lexer": "ipython3",
   "version": "3.10.11"
  },
  "orig_nbformat": 4
 },
 "nbformat": 4,
 "nbformat_minor": 2
}
