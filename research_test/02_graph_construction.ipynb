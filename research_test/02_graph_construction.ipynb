{
 "cells": [
  {
   "cell_type": "code",
   "execution_count": 1,
   "metadata": {},
   "outputs": [
    {
     "data": {
      "text/plain": [
       "'d:\\\\Final-Year-Project\\\\Credit-Card-Fraud-Detection-Using-GNN'"
      ]
     },
     "execution_count": 1,
     "metadata": {},
     "output_type": "execute_result"
    }
   ],
   "source": [
    "import os\n",
    "os.chdir(\"../\")\n",
    "%pwd"
   ]
  },
  {
   "cell_type": "code",
   "execution_count": 2,
   "metadata": {},
   "outputs": [],
   "source": [
    "from dataclasses import dataclass\n",
    "from pathlib import Path\n",
    "import os\n",
    "import pandas as pd\n",
    "from torch_geometric.data import HeteroData\n",
    "from Credit_Card_Fraud_Detection import logger\n",
    "import torch"
   ]
  },
  {
   "cell_type": "code",
   "execution_count": 3,
   "metadata": {},
   "outputs": [],
   "source": [
    "@dataclass(frozen=True)\n",
    "class TestGraphConstructionConfig:\n",
    "    root_dir: Path\n",
    "    transformed_test_data_path: Path\n",
    "    test_graph_data_path: Path"
   ]
  },
  {
   "cell_type": "code",
   "execution_count": 4,
   "metadata": {},
   "outputs": [],
   "source": [
    "from Credit_Card_Fraud_Detection.constants import *\n",
    "from Credit_Card_Fraud_Detection.utils.common import read_yaml, create_directories"
   ]
  },
  {
   "cell_type": "code",
   "execution_count": 5,
   "metadata": {},
   "outputs": [],
   "source": [
    "\n",
    "class ConfigurationManager:\n",
    "    def __init__(\n",
    "        self,\n",
    "        config_filepath = CONFIG_FILE_PATH,\n",
    "        params_filepath = PARAMS_FILE_PATH,\n",
    "        schema_filepath = SCHEMA_FILE_PATH):\n",
    "\n",
    "        self.config = read_yaml(config_filepath)\n",
    "        self.params = read_yaml(params_filepath)\n",
    "        self.schema = read_yaml(schema_filepath)\n",
    "\n",
    "        create_directories([self.config.artifacts_root])\n",
    "\n",
    "    def get_test_graph_construction_config(self) -> TestGraphConstructionConfig:\n",
    "        config = self.config.test_graph_construction\n",
    "        create_directories([config.root_dir])\n",
    "\n",
    "        test_graph_construction_config = TestGraphConstructionConfig(\n",
    "            root_dir=config.root_dir,\n",
    "            transformed_test_data_path=config.transformed_test_data_path,\n",
    "            test_graph_data_path=config.test_graph_data_path,\n",
    "        )\n",
    "        return test_graph_construction_config"
   ]
  },
  {
   "cell_type": "code",
   "execution_count": 6,
   "metadata": {},
   "outputs": [],
   "source": [
    "import torch\n",
    "from torch_geometric.data import HeteroData\n",
    "\n",
    "# --- Graph Construction Class (For Test Data) ---\n",
    "class TestGraphConstructor:\n",
    "    def __init__(self, config):\n",
    "        self.config = config\n",
    "\n",
    "    def create_node_ids(self, df):\n",
    "        df[\"transaction_node\"] = df[\"transaction_unique\"].astype(int)\n",
    "        df[\"customer_node\"] = df[\"customer_id\"].astype(int)\n",
    "        df[\"merchant_node\"] = df[\"merchant_id\"].astype(int)\n",
    "        df.drop(columns=[\"customer_id\", \"merchant_id\", \"transaction_unique\"], inplace=True)\n",
    "        return df\n",
    "\n",
    "    def create_edge_indices(self, df):\n",
    "        customer_to_transaction_edges = torch.tensor(df[[\"customer_node\", \"transaction_node\"]].values.T, dtype=torch.long)\n",
    "        transaction_to_merchant_edges = torch.tensor(df[[\"transaction_node\", \"merchant_node\"]].values.T, dtype=torch.long)\n",
    "        return customer_to_transaction_edges, transaction_to_merchant_edges\n",
    "\n",
    "    def create_node_features(self, df):\n",
    "        customer_features_list = [\"customer_avg_amt\", \"customer_min_amt\", \"customer_amt_std\"]\n",
    "        merchant_features_list = [\"merchant_avg_amt\", \"merchant_min_amt\", \"merchant_amt_std\"]\n",
    "        transaction_features_list = [\n",
    "            \"high_amt\", \"amt_ratio_merchant\", \"sqrt_amt\", \"amt\", \"amt_diff_customer_avg\",\n",
    "            \"hour_cos\", \"amt_per_city_pop\"\n",
    "        ]\n",
    "\n",
    "        customer_features_dim = len(customer_features_list)\n",
    "        merchant_features_dim = len(merchant_features_list)\n",
    "        transaction_features_dim = len(transaction_features_list)\n",
    "\n",
    "        unique_customer_nodes = df[\"customer_node\"].unique()\n",
    "        unique_merchant_nodes = df[\"merchant_node\"].unique()\n",
    "\n",
    "        customer_features = torch.zeros((len(unique_customer_nodes), customer_features_dim), dtype=torch.float32)\n",
    "        merchant_features = torch.zeros((len(unique_merchant_nodes), merchant_features_dim), dtype=torch.float32)\n",
    "        transaction_features = torch.tensor(df[transaction_features_list].values, dtype=torch.float32)\n",
    "\n",
    "        for i, customer_id in enumerate(unique_customer_nodes):\n",
    "            group = df[df[\"customer_node\"] == customer_id]\n",
    "            customer_features[i] = torch.tensor(group[customer_features_list].mean().values, dtype=torch.float32)\n",
    "\n",
    "        for i, merchant_id in enumerate(unique_merchant_nodes):\n",
    "            group = df[df[\"merchant_node\"] == merchant_id]\n",
    "            merchant_features[i] = torch.tensor(group[merchant_features_list].mean().values, dtype=torch.float32)\n",
    "\n",
    "        return customer_features, merchant_features, transaction_features\n",
    "\n",
    "    def construct_test_graph(self, df):\n",
    "        df = self.create_node_ids(df)\n",
    "        customer_to_transaction_edges, transaction_to_merchant_edges = self.create_edge_indices(df)\n",
    "        customer_features, merchant_features, transaction_features = self.create_node_features(df)\n",
    "\n",
    "        # Extract and remove 'is_fraud' column, and transaction id\n",
    "        y_labels = list(zip(df[\"transaction_node\"].tolist(), df[\"is_fraud\"].tolist()))\n",
    "        df.drop(columns=[\"is_fraud\"], inplace=True)\n",
    "\n",
    "        data = HeteroData()\n",
    "        data[\"customer\"].x = customer_features\n",
    "        data[\"merchant\"].x = merchant_features\n",
    "        data[\"transaction\"].x = transaction_features\n",
    "        data[\"customer\", \"transacts\", \"transaction\"].edge_index = customer_to_transaction_edges\n",
    "        data[\"transaction\", \"occurs_at\", \"merchant\"].edge_index = transaction_to_merchant_edges\n",
    "        data[\"transaction\", \"transacted_by\", \"customer\"].edge_index = customer_to_transaction_edges.flip(0)\n",
    "        data[\"merchant\", \"related_to\", \"transaction\"].edge_index = transaction_to_merchant_edges.flip(0)\n",
    "        data[\"transaction\"].y = torch.tensor([label[1] for label in y_labels], dtype=torch.float32).view(-1, 1)\n",
    "\n",
    "        data[\"customer\"].n_id = torch.tensor(df[\"customer_node\"].unique())\n",
    "        data[\"merchant\"].n_id = torch.tensor(df[\"merchant_node\"].unique())\n",
    "        data[\"transaction\"].n_id = torch.tensor(df[\"transaction_node\"].unique())\n",
    "\n",
    "        merchant_id_mapping = {merchant_id: idx for idx, merchant_id in enumerate(df[\"merchant_node\"].unique())}\n",
    "\n",
    "        data[\"transaction\", \"occurs_at\", \"merchant\"].edge_index[1] = torch.tensor([merchant_id_mapping[merchant_id.item()] for merchant_id in data[\"transaction\", \"occurs_at\", \"merchant\"].edge_index[1]])\n",
    "        data[\"merchant\", \"related_to\", \"transaction\"].edge_index[0] = torch.tensor([merchant_id_mapping[merchant_id.item()] for merchant_id in data[\"merchant\", \"related_to\", \"transaction\"].edge_index[0]])\n",
    "\n",
    "        return data, y_labels  # Return data and is_fraud labels with transaction_node"
   ]
  },
  {
   "cell_type": "code",
   "execution_count": 7,
   "metadata": {},
   "outputs": [
    {
     "name": "stdout",
     "output_type": "stream",
     "text": [
      "[2025-03-24 16:54:05,006: INFO: common: yaml file: config\\config.yaml loaded successfully]\n",
      "[2025-03-24 16:54:05,008: INFO: common: yaml file: params.yaml loaded successfully]\n",
      "[2025-03-24 16:54:05,008: INFO: common: yaml file: schema.yaml loaded successfully]\n",
      "[2025-03-24 16:54:05,008: INFO: common: created directory at: artifacts]\n",
      "[2025-03-24 16:54:05,011: INFO: common: created directory at: artifacts/Testing]\n",
      "Test graph data saved to: artifacts/Testing/test_graph_data.pt\n",
      "is_fraud labels saved to: artifacts/Testing\\is_fraud_labels.pt\n"
     ]
    }
   ],
   "source": [
    "try:\n",
    "    config = ConfigurationManager()\n",
    "    test_graph_construction_config = config.get_test_graph_construction_config()\n",
    "    test_graph_constructor = TestGraphConstructor(config=test_graph_construction_config)\n",
    "\n",
    "    test_df = pd.read_csv(test_graph_construction_config.transformed_test_data_path)\n",
    "    test_data, is_fraud_labels = test_graph_constructor.construct_test_graph(test_df)\n",
    "\n",
    "    torch.save(test_data, test_graph_construction_config.test_graph_data_path)\n",
    "    print(f\"Test graph data saved to: {test_graph_construction_config.test_graph_data_path}\")\n",
    "\n",
    "    # Save the is_fraud labels at the specified location\n",
    "    labels_save_path = os.path.join(test_graph_construction_config.root_dir, \"is_fraud_labels.pt\")\n",
    "    torch.save(torch.tensor(is_fraud_labels), labels_save_path)\n",
    "    print(f\"is_fraud labels saved to: {labels_save_path}\")\n",
    "\n",
    "except Exception as e:\n",
    "    raise e"
   ]
  },
  {
   "cell_type": "code",
   "execution_count": null,
   "metadata": {},
   "outputs": [],
   "source": []
  }
 ],
 "metadata": {
  "kernelspec": {
   "display_name": "env",
   "language": "python",
   "name": "python3"
  },
  "language_info": {
   "codemirror_mode": {
    "name": "ipython",
    "version": 3
   },
   "file_extension": ".py",
   "mimetype": "text/x-python",
   "name": "python",
   "nbconvert_exporter": "python",
   "pygments_lexer": "ipython3",
   "version": "3.10.11"
  }
 },
 "nbformat": 4,
 "nbformat_minor": 2
}
